{
  "cells": [
    {
      "cell_type": "markdown",
      "metadata": {
        "id": "uVIVXD0L9CLi"
      },
      "source": [
        "# Video and Image Emotion Annotation\n",
        "\n",
        "This script facilitates the detection of faces and annotation of recognized emotions in both videos and images. It utilizes state-of-the-art deep learning models for face detection and emotion recognition, namely RetinaFace and HSEmotionRecognizer, respectively. The goal is to enhance media content understanding by automatically labeling facial expressions with emotional states.\n",
        "Components:\n",
        "\n",
        "## Face Detection using RetinaFace:\n",
        "     The detect_faces function leverages the RetinaFace model to identify faces within a given frame of video or image data. It retrieves facial bounding boxes, providing precise coordinates for subsequent processing.\n",
        "\n",
        "## Emotion Recognition with HSEmotionRecognizer:\n",
        "     The HSEmotionRecognizer model, initialized as recognizer, interprets emotional states from extracted face regions. It predicts emotions based on learned features from the provided face images.\n",
        "\n",
        "## Annotation and Visualization:\n",
        "     The annotate_frame function annotates each detected face with its recognized emotion. It draws bounding boxes around faces and labels them with the predicted emotional state, enhancing visual understanding of the content.\n",
        "\n",
        "## Processing Pipeline:\n",
        "        Video Processing:\n",
        "        process_video_frames: Iterates through frames of a video, applying face detection and emotion annotation. It saves the processed frames into a temporary video file.\n",
        "        add_audio_to_video: Incorporates audio from the original video back into the processed frames, creating a final annotated video output.\n",
        "        process_video: Integrates frame processing and audio addition into a cohesive function for video processing tasks.\n",
        "        Image Processing:\n",
        "        process_image: Handles single images by detecting faces, annotating emotions, and optionally combining input and annotated images for visualization.\n",
        "\n",
        "# Usage:\n",
        "\n",
        "    Video Processing: Provide paths to video files (*.mp4, *.avi, *.mov, *.mkv) to analyze and annotate facial expressions throughout the video duration.\n",
        "    Image Processing: For static images (*.jpg, *.jpeg, *.png), the script detects faces, predicts emotions, and optionally displays the original and annotated images side by side.\n",
        "    live camera processing: you can open the camera and model will detect your face and recogize your emoticons\n"
      ]
    },
    {
      "cell_type": "markdown",
      "metadata": {
        "id": "H5vMPITJIVyT"
      },
      "source": [
        "## Setup\n",
        "install the required libraries:"
      ]
    },
    {
      "cell_type": "code",
      "execution_count": 26,
      "metadata": {},
      "outputs": [
        {
          "name": "stdout",
          "output_type": "stream",
          "text": [
            "Requirement already satisfied: retina-face in c:\\users\\hendy group\\anaconda3\\lib\\site-packages (0.0.17)\n",
            "Requirement already satisfied: numpy>=1.14.0 in c:\\users\\hendy group\\anaconda3\\lib\\site-packages (from retina-face) (1.26.4)\n",
            "Requirement already satisfied: gdown>=3.10.1 in c:\\users\\hendy group\\anaconda3\\lib\\site-packages (from retina-face) (5.2.0)\n",
            "Requirement already satisfied: Pillow>=5.2.0 in c:\\users\\hendy group\\anaconda3\\lib\\site-packages (from retina-face) (10.2.0)\n",
            "Requirement already satisfied: opencv-python>=3.4.4 in c:\\users\\hendy group\\anaconda3\\lib\\site-packages (from retina-face) (4.10.0.84)\n",
            "Requirement already satisfied: tensorflow>=1.9.0 in c:\\users\\hendy group\\anaconda3\\lib\\site-packages (from retina-face) (2.16.1)\n",
            "Requirement already satisfied: beautifulsoup4 in c:\\users\\hendy group\\anaconda3\\lib\\site-packages (from gdown>=3.10.1->retina-face) (4.12.2)\n",
            "Requirement already satisfied: filelock in c:\\users\\hendy group\\anaconda3\\lib\\site-packages (from gdown>=3.10.1->retina-face) (3.13.1)\n",
            "Requirement already satisfied: requests[socks] in c:\\users\\hendy group\\anaconda3\\lib\\site-packages (from gdown>=3.10.1->retina-face) (2.31.0)\n",
            "Requirement already satisfied: tqdm in c:\\users\\hendy group\\anaconda3\\lib\\site-packages (from gdown>=3.10.1->retina-face) (4.65.0)\n",
            "Requirement already satisfied: tensorflow-intel==2.16.1 in c:\\users\\hendy group\\anaconda3\\lib\\site-packages (from tensorflow>=1.9.0->retina-face) (2.16.1)\n",
            "Requirement already satisfied: absl-py>=1.0.0 in c:\\users\\hendy group\\anaconda3\\lib\\site-packages (from tensorflow-intel==2.16.1->tensorflow>=1.9.0->retina-face) (2.1.0)\n",
            "Requirement already satisfied: astunparse>=1.6.0 in c:\\users\\hendy group\\anaconda3\\lib\\site-packages (from tensorflow-intel==2.16.1->tensorflow>=1.9.0->retina-face) (1.6.3)\n",
            "Requirement already satisfied: flatbuffers>=23.5.26 in c:\\users\\hendy group\\anaconda3\\lib\\site-packages (from tensorflow-intel==2.16.1->tensorflow>=1.9.0->retina-face) (24.3.25)\n",
            "Requirement already satisfied: gast!=0.5.0,!=0.5.1,!=0.5.2,>=0.2.1 in c:\\users\\hendy group\\anaconda3\\lib\\site-packages (from tensorflow-intel==2.16.1->tensorflow>=1.9.0->retina-face) (0.5.4)\n",
            "Requirement already satisfied: google-pasta>=0.1.1 in c:\\users\\hendy group\\anaconda3\\lib\\site-packages (from tensorflow-intel==2.16.1->tensorflow>=1.9.0->retina-face) (0.2.0)\n",
            "Requirement already satisfied: h5py>=3.10.0 in c:\\users\\hendy group\\anaconda3\\lib\\site-packages (from tensorflow-intel==2.16.1->tensorflow>=1.9.0->retina-face) (3.11.0)\n",
            "Requirement already satisfied: libclang>=13.0.0 in c:\\users\\hendy group\\anaconda3\\lib\\site-packages (from tensorflow-intel==2.16.1->tensorflow>=1.9.0->retina-face) (18.1.1)\n",
            "Requirement already satisfied: ml-dtypes~=0.3.1 in c:\\users\\hendy group\\anaconda3\\lib\\site-packages (from tensorflow-intel==2.16.1->tensorflow>=1.9.0->retina-face) (0.3.2)\n",
            "Requirement already satisfied: opt-einsum>=2.3.2 in c:\\users\\hendy group\\anaconda3\\lib\\site-packages (from tensorflow-intel==2.16.1->tensorflow>=1.9.0->retina-face) (3.3.0)\n",
            "Requirement already satisfied: packaging in c:\\users\\hendy group\\anaconda3\\lib\\site-packages (from tensorflow-intel==2.16.1->tensorflow>=1.9.0->retina-face) (23.2)\n",
            "Requirement already satisfied: protobuf!=4.21.0,!=4.21.1,!=4.21.2,!=4.21.3,!=4.21.4,!=4.21.5,<5.0.0dev,>=3.20.3 in c:\\users\\hendy group\\anaconda3\\lib\\site-packages (from tensorflow-intel==2.16.1->tensorflow>=1.9.0->retina-face) (3.20.3)\n",
            "Requirement already satisfied: setuptools in c:\\users\\hendy group\\anaconda3\\lib\\site-packages (from tensorflow-intel==2.16.1->tensorflow>=1.9.0->retina-face) (68.2.2)\n",
            "Requirement already satisfied: six>=1.12.0 in c:\\users\\hendy group\\anaconda3\\lib\\site-packages (from tensorflow-intel==2.16.1->tensorflow>=1.9.0->retina-face) (1.16.0)\n",
            "Requirement already satisfied: termcolor>=1.1.0 in c:\\users\\hendy group\\anaconda3\\lib\\site-packages (from tensorflow-intel==2.16.1->tensorflow>=1.9.0->retina-face) (2.4.0)\n",
            "Requirement already satisfied: typing-extensions>=3.6.6 in c:\\users\\hendy group\\anaconda3\\lib\\site-packages (from tensorflow-intel==2.16.1->tensorflow>=1.9.0->retina-face) (4.9.0)\n",
            "Requirement already satisfied: wrapt>=1.11.0 in c:\\users\\hendy group\\anaconda3\\lib\\site-packages (from tensorflow-intel==2.16.1->tensorflow>=1.9.0->retina-face) (1.14.1)\n",
            "Requirement already satisfied: grpcio<2.0,>=1.24.3 in c:\\users\\hendy group\\anaconda3\\lib\\site-packages (from tensorflow-intel==2.16.1->tensorflow>=1.9.0->retina-face) (1.63.0)\n",
            "Requirement already satisfied: tensorboard<2.17,>=2.16 in c:\\users\\hendy group\\anaconda3\\lib\\site-packages (from tensorflow-intel==2.16.1->tensorflow>=1.9.0->retina-face) (2.16.2)\n",
            "Requirement already satisfied: keras>=3.0.0 in c:\\users\\hendy group\\anaconda3\\lib\\site-packages (from tensorflow-intel==2.16.1->tensorflow>=1.9.0->retina-face) (3.3.3)\n",
            "Requirement already satisfied: tensorflow-io-gcs-filesystem>=0.23.1 in c:\\users\\hendy group\\anaconda3\\lib\\site-packages (from tensorflow-intel==2.16.1->tensorflow>=1.9.0->retina-face) (0.31.0)\n",
            "Requirement already satisfied: soupsieve>1.2 in c:\\users\\hendy group\\anaconda3\\lib\\site-packages (from beautifulsoup4->gdown>=3.10.1->retina-face) (2.5)\n",
            "Requirement already satisfied: charset-normalizer<4,>=2 in c:\\users\\hendy group\\anaconda3\\lib\\site-packages (from requests[socks]->gdown>=3.10.1->retina-face) (2.0.4)\n",
            "Requirement already satisfied: idna<4,>=2.5 in c:\\users\\hendy group\\anaconda3\\lib\\site-packages (from requests[socks]->gdown>=3.10.1->retina-face) (3.4)\n",
            "Requirement already satisfied: urllib3<3,>=1.21.1 in c:\\users\\hendy group\\anaconda3\\lib\\site-packages (from requests[socks]->gdown>=3.10.1->retina-face) (2.0.7)\n",
            "Requirement already satisfied: certifi>=2017.4.17 in c:\\users\\hendy group\\anaconda3\\lib\\site-packages (from requests[socks]->gdown>=3.10.1->retina-face) (2024.2.2)\n",
            "Requirement already satisfied: PySocks!=1.5.7,>=1.5.6 in c:\\users\\hendy group\\anaconda3\\lib\\site-packages (from requests[socks]->gdown>=3.10.1->retina-face) (1.7.1)\n",
            "Requirement already satisfied: colorama in c:\\users\\hendy group\\anaconda3\\lib\\site-packages (from tqdm->gdown>=3.10.1->retina-face) (0.4.6)\n",
            "Requirement already satisfied: wheel<1.0,>=0.23.0 in c:\\users\\hendy group\\anaconda3\\lib\\site-packages (from astunparse>=1.6.0->tensorflow-intel==2.16.1->tensorflow>=1.9.0->retina-face) (0.41.2)\n",
            "Requirement already satisfied: rich in c:\\users\\hendy group\\anaconda3\\lib\\site-packages (from keras>=3.0.0->tensorflow-intel==2.16.1->tensorflow>=1.9.0->retina-face) (13.3.5)\n",
            "Requirement already satisfied: namex in c:\\users\\hendy group\\anaconda3\\lib\\site-packages (from keras>=3.0.0->tensorflow-intel==2.16.1->tensorflow>=1.9.0->retina-face) (0.0.8)\n",
            "Requirement already satisfied: optree in c:\\users\\hendy group\\anaconda3\\lib\\site-packages (from keras>=3.0.0->tensorflow-intel==2.16.1->tensorflow>=1.9.0->retina-face) (0.11.0)\n",
            "Requirement already satisfied: markdown>=2.6.8 in c:\\users\\hendy group\\anaconda3\\lib\\site-packages (from tensorboard<2.17,>=2.16->tensorflow-intel==2.16.1->tensorflow>=1.9.0->retina-face) (3.4.1)\n",
            "Requirement already satisfied: tensorboard-data-server<0.8.0,>=0.7.0 in c:\\users\\hendy group\\anaconda3\\lib\\site-packages (from tensorboard<2.17,>=2.16->tensorflow-intel==2.16.1->tensorflow>=1.9.0->retina-face) (0.7.2)\n",
            "Requirement already satisfied: werkzeug>=1.0.1 in c:\\users\\hendy group\\anaconda3\\lib\\site-packages (from tensorboard<2.17,>=2.16->tensorflow-intel==2.16.1->tensorflow>=1.9.0->retina-face) (2.2.3)\n",
            "Requirement already satisfied: MarkupSafe>=2.1.1 in c:\\users\\hendy group\\anaconda3\\lib\\site-packages (from werkzeug>=1.0.1->tensorboard<2.17,>=2.16->tensorflow-intel==2.16.1->tensorflow>=1.9.0->retina-face) (2.1.3)\n",
            "Requirement already satisfied: markdown-it-py<3.0.0,>=2.2.0 in c:\\users\\hendy group\\anaconda3\\lib\\site-packages (from rich->keras>=3.0.0->tensorflow-intel==2.16.1->tensorflow>=1.9.0->retina-face) (2.2.0)\n",
            "Requirement already satisfied: pygments<3.0.0,>=2.13.0 in c:\\users\\hendy group\\anaconda3\\lib\\site-packages (from rich->keras>=3.0.0->tensorflow-intel==2.16.1->tensorflow>=1.9.0->retina-face) (2.15.1)\n",
            "Requirement already satisfied: mdurl~=0.1 in c:\\users\\hendy group\\anaconda3\\lib\\site-packages (from markdown-it-py<3.0.0,>=2.2.0->rich->keras>=3.0.0->tensorflow-intel==2.16.1->tensorflow>=1.9.0->retina-face) (0.1.0)\n",
            "Note: you may need to restart the kernel to use updated packages.\n"
          ]
        }
      ],
      "source": [
        "pip install retina-face"
      ]
    },
    {
      "cell_type": "code",
      "execution_count": 22,
      "metadata": {
        "colab": {
          "base_uri": "https://localhost:8080/"
        },
        "id": "XfbBa45h4i-Q",
        "outputId": "897c0f6c-2622-4143-beff-0916c33b62cb"
      },
      "outputs": [
        {
          "name": "stdout",
          "output_type": "stream",
          "text": [
            "Requirement already satisfied: retina-face in c:\\users\\hendy group\\anaconda3\\lib\\site-packages (0.0.17)\n",
            "Requirement already satisfied: hsemotion in c:\\users\\hendy group\\anaconda3\\lib\\site-packages (0.3.0)\n",
            "Requirement already satisfied: moviepy in c:\\users\\hendy group\\anaconda3\\lib\\site-packages (1.0.3)\n",
            "Requirement already satisfied: numpy>=1.14.0 in c:\\users\\hendy group\\anaconda3\\lib\\site-packages (from retina-face) (1.26.4)\n",
            "Requirement already satisfied: gdown>=3.10.1 in c:\\users\\hendy group\\anaconda3\\lib\\site-packages (from retina-face) (5.2.0)\n",
            "Requirement already satisfied: Pillow>=5.2.0 in c:\\users\\hendy group\\anaconda3\\lib\\site-packages (from retina-face) (10.2.0)\n",
            "Requirement already satisfied: opencv-python>=3.4.4 in c:\\users\\hendy group\\anaconda3\\lib\\site-packages (from retina-face) (4.10.0.84)\n",
            "Requirement already satisfied: tensorflow>=1.9.0 in c:\\users\\hendy group\\anaconda3\\lib\\site-packages (from retina-face) (2.16.1)\n",
            "Requirement already satisfied: torch in c:\\users\\hendy group\\anaconda3\\lib\\site-packages (from hsemotion) (2.3.1)\n",
            "Requirement already satisfied: torchvision in c:\\users\\hendy group\\anaconda3\\lib\\site-packages (from hsemotion) (0.18.1)\n",
            "Requirement already satisfied: timm in c:\\users\\hendy group\\anaconda3\\lib\\site-packages (from hsemotion) (1.0.3)\n",
            "Requirement already satisfied: decorator<5.0,>=4.0.2 in c:\\users\\hendy group\\anaconda3\\lib\\site-packages (from moviepy) (4.4.2)\n",
            "Requirement already satisfied: tqdm<5.0,>=4.11.2 in c:\\users\\hendy group\\anaconda3\\lib\\site-packages (from moviepy) (4.65.0)\n",
            "Requirement already satisfied: requests<3.0,>=2.8.1 in c:\\users\\hendy group\\anaconda3\\lib\\site-packages (from moviepy) (2.31.0)\n",
            "Requirement already satisfied: proglog<=1.0.0 in c:\\users\\hendy group\\anaconda3\\lib\\site-packages (from moviepy) (0.1.10)\n",
            "Requirement already satisfied: imageio<3.0,>=2.5 in c:\\users\\hendy group\\anaconda3\\lib\\site-packages (from moviepy) (2.33.1)\n",
            "Requirement already satisfied: imageio-ffmpeg>=0.2.0 in c:\\users\\hendy group\\anaconda3\\lib\\site-packages (from moviepy) (0.5.1)\n",
            "Requirement already satisfied: beautifulsoup4 in c:\\users\\hendy group\\anaconda3\\lib\\site-packages (from gdown>=3.10.1->retina-face) (4.12.2)\n",
            "Requirement already satisfied: filelock in c:\\users\\hendy group\\anaconda3\\lib\\site-packages (from gdown>=3.10.1->retina-face) (3.13.1)\n",
            "Requirement already satisfied: setuptools in c:\\users\\hendy group\\anaconda3\\lib\\site-packages (from imageio-ffmpeg>=0.2.0->moviepy) (68.2.2)\n",
            "Requirement already satisfied: charset-normalizer<4,>=2 in c:\\users\\hendy group\\anaconda3\\lib\\site-packages (from requests<3.0,>=2.8.1->moviepy) (2.0.4)\n",
            "Requirement already satisfied: idna<4,>=2.5 in c:\\users\\hendy group\\anaconda3\\lib\\site-packages (from requests<3.0,>=2.8.1->moviepy) (3.4)\n",
            "Requirement already satisfied: urllib3<3,>=1.21.1 in c:\\users\\hendy group\\anaconda3\\lib\\site-packages (from requests<3.0,>=2.8.1->moviepy) (2.0.7)\n",
            "Requirement already satisfied: certifi>=2017.4.17 in c:\\users\\hendy group\\anaconda3\\lib\\site-packages (from requests<3.0,>=2.8.1->moviepy) (2024.2.2)\n",
            "Requirement already satisfied: tensorflow-intel==2.16.1 in c:\\users\\hendy group\\anaconda3\\lib\\site-packages (from tensorflow>=1.9.0->retina-face) (2.16.1)\n",
            "Requirement already satisfied: absl-py>=1.0.0 in c:\\users\\hendy group\\anaconda3\\lib\\site-packages (from tensorflow-intel==2.16.1->tensorflow>=1.9.0->retina-face) (2.1.0)\n",
            "Requirement already satisfied: astunparse>=1.6.0 in c:\\users\\hendy group\\anaconda3\\lib\\site-packages (from tensorflow-intel==2.16.1->tensorflow>=1.9.0->retina-face) (1.6.3)\n",
            "Requirement already satisfied: flatbuffers>=23.5.26 in c:\\users\\hendy group\\anaconda3\\lib\\site-packages (from tensorflow-intel==2.16.1->tensorflow>=1.9.0->retina-face) (24.3.25)\n",
            "Requirement already satisfied: gast!=0.5.0,!=0.5.1,!=0.5.2,>=0.2.1 in c:\\users\\hendy group\\anaconda3\\lib\\site-packages (from tensorflow-intel==2.16.1->tensorflow>=1.9.0->retina-face) (0.5.4)\n",
            "Requirement already satisfied: google-pasta>=0.1.1 in c:\\users\\hendy group\\anaconda3\\lib\\site-packages (from tensorflow-intel==2.16.1->tensorflow>=1.9.0->retina-face) (0.2.0)\n",
            "Requirement already satisfied: h5py>=3.10.0 in c:\\users\\hendy group\\anaconda3\\lib\\site-packages (from tensorflow-intel==2.16.1->tensorflow>=1.9.0->retina-face) (3.11.0)\n",
            "Requirement already satisfied: libclang>=13.0.0 in c:\\users\\hendy group\\anaconda3\\lib\\site-packages (from tensorflow-intel==2.16.1->tensorflow>=1.9.0->retina-face) (18.1.1)\n",
            "Requirement already satisfied: ml-dtypes~=0.3.1 in c:\\users\\hendy group\\anaconda3\\lib\\site-packages (from tensorflow-intel==2.16.1->tensorflow>=1.9.0->retina-face) (0.3.2)\n",
            "Requirement already satisfied: opt-einsum>=2.3.2 in c:\\users\\hendy group\\anaconda3\\lib\\site-packages (from tensorflow-intel==2.16.1->tensorflow>=1.9.0->retina-face) (3.3.0)\n",
            "Requirement already satisfied: packaging in c:\\users\\hendy group\\anaconda3\\lib\\site-packages (from tensorflow-intel==2.16.1->tensorflow>=1.9.0->retina-face) (23.2)\n",
            "Requirement already satisfied: protobuf!=4.21.0,!=4.21.1,!=4.21.2,!=4.21.3,!=4.21.4,!=4.21.5,<5.0.0dev,>=3.20.3 in c:\\users\\hendy group\\anaconda3\\lib\\site-packages (from tensorflow-intel==2.16.1->tensorflow>=1.9.0->retina-face) (3.20.3)\n",
            "Requirement already satisfied: six>=1.12.0 in c:\\users\\hendy group\\anaconda3\\lib\\site-packages (from tensorflow-intel==2.16.1->tensorflow>=1.9.0->retina-face) (1.16.0)\n",
            "Requirement already satisfied: termcolor>=1.1.0 in c:\\users\\hendy group\\anaconda3\\lib\\site-packages (from tensorflow-intel==2.16.1->tensorflow>=1.9.0->retina-face) (2.4.0)\n",
            "Requirement already satisfied: typing-extensions>=3.6.6 in c:\\users\\hendy group\\anaconda3\\lib\\site-packages (from tensorflow-intel==2.16.1->tensorflow>=1.9.0->retina-face) (4.9.0)\n",
            "Requirement already satisfied: wrapt>=1.11.0 in c:\\users\\hendy group\\anaconda3\\lib\\site-packages (from tensorflow-intel==2.16.1->tensorflow>=1.9.0->retina-face) (1.14.1)\n",
            "Requirement already satisfied: grpcio<2.0,>=1.24.3 in c:\\users\\hendy group\\anaconda3\\lib\\site-packages (from tensorflow-intel==2.16.1->tensorflow>=1.9.0->retina-face) (1.63.0)\n",
            "Requirement already satisfied: tensorboard<2.17,>=2.16 in c:\\users\\hendy group\\anaconda3\\lib\\site-packages (from tensorflow-intel==2.16.1->tensorflow>=1.9.0->retina-face) (2.16.2)\n",
            "Requirement already satisfied: keras>=3.0.0 in c:\\users\\hendy group\\anaconda3\\lib\\site-packages (from tensorflow-intel==2.16.1->tensorflow>=1.9.0->retina-face) (3.3.3)\n",
            "Requirement already satisfied: tensorflow-io-gcs-filesystem>=0.23.1 in c:\\users\\hendy group\\anaconda3\\lib\\site-packages (from tensorflow-intel==2.16.1->tensorflow>=1.9.0->retina-face) (0.31.0)\n",
            "Requirement already satisfied: colorama in c:\\users\\hendy group\\anaconda3\\lib\\site-packages (from tqdm<5.0,>=4.11.2->moviepy) (0.4.6)\n",
            "Requirement already satisfied: pyyaml in c:\\users\\hendy group\\anaconda3\\lib\\site-packages (from timm->hsemotion) (6.0.1)\n",
            "Requirement already satisfied: huggingface_hub in c:\\users\\hendy group\\anaconda3\\lib\\site-packages (from timm->hsemotion) (0.23.1)\n",
            "Requirement already satisfied: safetensors in c:\\users\\hendy group\\anaconda3\\lib\\site-packages (from timm->hsemotion) (0.4.3)\n",
            "Requirement already satisfied: sympy in c:\\users\\hendy group\\anaconda3\\lib\\site-packages (from torch->hsemotion) (1.12)\n",
            "Requirement already satisfied: networkx in c:\\users\\hendy group\\anaconda3\\lib\\site-packages (from torch->hsemotion) (3.1)\n",
            "Requirement already satisfied: jinja2 in c:\\users\\hendy group\\anaconda3\\lib\\site-packages (from torch->hsemotion) (3.1.3)\n",
            "Requirement already satisfied: fsspec in c:\\users\\hendy group\\anaconda3\\lib\\site-packages (from torch->hsemotion) (2023.10.0)\n",
            "Requirement already satisfied: mkl<=2021.4.0,>=2021.1.1 in c:\\users\\hendy group\\anaconda3\\lib\\site-packages (from torch->hsemotion) (2021.4.0)\n",
            "Requirement already satisfied: intel-openmp==2021.* in c:\\users\\hendy group\\anaconda3\\lib\\site-packages (from mkl<=2021.4.0,>=2021.1.1->torch->hsemotion) (2021.4.0)\n",
            "Requirement already satisfied: tbb==2021.* in c:\\users\\hendy group\\anaconda3\\lib\\site-packages (from mkl<=2021.4.0,>=2021.1.1->torch->hsemotion) (2021.12.0)\n",
            "Requirement already satisfied: soupsieve>1.2 in c:\\users\\hendy group\\anaconda3\\lib\\site-packages (from beautifulsoup4->gdown>=3.10.1->retina-face) (2.5)\n",
            "Requirement already satisfied: MarkupSafe>=2.0 in c:\\users\\hendy group\\anaconda3\\lib\\site-packages (from jinja2->torch->hsemotion) (2.1.3)\n",
            "Requirement already satisfied: PySocks!=1.5.7,>=1.5.6 in c:\\users\\hendy group\\anaconda3\\lib\\site-packages (from requests[socks]->gdown>=3.10.1->retina-face) (1.7.1)\n",
            "Requirement already satisfied: mpmath>=0.19 in c:\\users\\hendy group\\anaconda3\\lib\\site-packages (from sympy->torch->hsemotion) (1.3.0)\n",
            "Requirement already satisfied: wheel<1.0,>=0.23.0 in c:\\users\\hendy group\\anaconda3\\lib\\site-packages (from astunparse>=1.6.0->tensorflow-intel==2.16.1->tensorflow>=1.9.0->retina-face) (0.41.2)\n",
            "Requirement already satisfied: rich in c:\\users\\hendy group\\anaconda3\\lib\\site-packages (from keras>=3.0.0->tensorflow-intel==2.16.1->tensorflow>=1.9.0->retina-face) (13.3.5)\n",
            "Requirement already satisfied: namex in c:\\users\\hendy group\\anaconda3\\lib\\site-packages (from keras>=3.0.0->tensorflow-intel==2.16.1->tensorflow>=1.9.0->retina-face) (0.0.8)\n",
            "Requirement already satisfied: optree in c:\\users\\hendy group\\anaconda3\\lib\\site-packages (from keras>=3.0.0->tensorflow-intel==2.16.1->tensorflow>=1.9.0->retina-face) (0.11.0)\n",
            "Requirement already satisfied: markdown>=2.6.8 in c:\\users\\hendy group\\anaconda3\\lib\\site-packages (from tensorboard<2.17,>=2.16->tensorflow-intel==2.16.1->tensorflow>=1.9.0->retina-face) (3.4.1)\n",
            "Requirement already satisfied: tensorboard-data-server<0.8.0,>=0.7.0 in c:\\users\\hendy group\\anaconda3\\lib\\site-packages (from tensorboard<2.17,>=2.16->tensorflow-intel==2.16.1->tensorflow>=1.9.0->retina-face) (0.7.2)\n",
            "Requirement already satisfied: werkzeug>=1.0.1 in c:\\users\\hendy group\\anaconda3\\lib\\site-packages (from tensorboard<2.17,>=2.16->tensorflow-intel==2.16.1->tensorflow>=1.9.0->retina-face) (2.2.3)\n",
            "Requirement already satisfied: markdown-it-py<3.0.0,>=2.2.0 in c:\\users\\hendy group\\anaconda3\\lib\\site-packages (from rich->keras>=3.0.0->tensorflow-intel==2.16.1->tensorflow>=1.9.0->retina-face) (2.2.0)\n",
            "Requirement already satisfied: pygments<3.0.0,>=2.13.0 in c:\\users\\hendy group\\anaconda3\\lib\\site-packages (from rich->keras>=3.0.0->tensorflow-intel==2.16.1->tensorflow>=1.9.0->retina-face) (2.15.1)\n",
            "Requirement already satisfied: mdurl~=0.1 in c:\\users\\hendy group\\anaconda3\\lib\\site-packages (from markdown-it-py<3.0.0,>=2.2.0->rich->keras>=3.0.0->tensorflow-intel==2.16.1->tensorflow>=1.9.0->retina-face) (0.1.0)\n"
          ]
        }
      ],
      "source": [
        "! pip install retina-face hsemotion moviepy\n",
        "# tensorflow == 2."
      ]
    },
    {
      "cell_type": "code",
      "execution_count": 23,
      "metadata": {},
      "outputs": [
        {
          "name": "stdout",
          "output_type": "stream",
          "text": [
            "Name: tensorflow\n",
            "Version: 2.16.1\n",
            "Summary: TensorFlow is an open source machine learning framework for everyone.\n",
            "Home-page: https://www.tensorflow.org/\n",
            "Author: Google Inc.\n",
            "Author-email: packages@tensorflow.org\n",
            "License: Apache 2.0\n",
            "Location: c:\\Users\\Hendy Group\\anaconda3\\Lib\\site-packages\n",
            "Requires: tensorflow-intel\n",
            "Required-by: deepface, retina-face\n",
            "Note: you may need to restart the kernel to use updated packages.\n"
          ]
        }
      ],
      "source": [
        "pip show tensorflow\n"
      ]
    },
    {
      "cell_type": "code",
      "execution_count": 2,
      "metadata": {},
      "outputs": [
        {
          "name": "stdout",
          "output_type": "stream",
          "text": [
            "Requirement already satisfied: keras in c:\\users\\hendy group\\anaconda3\\lib\\site-packages (2.15.0)\n",
            "Note: you may need to restart the kernel to use updated packages.\n"
          ]
        }
      ],
      "source": [
        "pip install keras"
      ]
    },
    {
      "cell_type": "code",
      "execution_count": 11,
      "metadata": {},
      "outputs": [
        {
          "name": "stdout",
          "output_type": "stream",
          "text": [
            "Requirement already satisfied: keras in c:\\users\\hendy group\\anaconda3\\lib\\site-packages (2.15.0)\n",
            "Collecting keras\n",
            "  Using cached keras-3.3.3-py3-none-any.whl.metadata (5.7 kB)\n",
            "Requirement already satisfied: absl-py in c:\\users\\hendy group\\anaconda3\\lib\\site-packages (from keras) (2.1.0)\n",
            "Requirement already satisfied: numpy in c:\\users\\hendy group\\anaconda3\\lib\\site-packages (from keras) (1.26.4)\n",
            "Requirement already satisfied: rich in c:\\users\\hendy group\\anaconda3\\lib\\site-packages (from keras) (13.3.5)\n",
            "Requirement already satisfied: namex in c:\\users\\hendy group\\anaconda3\\lib\\site-packages (from keras) (0.0.8)\n",
            "Requirement already satisfied: h5py in c:\\users\\hendy group\\anaconda3\\lib\\site-packages (from keras) (3.11.0)\n",
            "Requirement already satisfied: optree in c:\\users\\hendy group\\anaconda3\\lib\\site-packages (from keras) (0.11.0)\n",
            "Requirement already satisfied: ml-dtypes in c:\\users\\hendy group\\anaconda3\\lib\\site-packages (from keras) (0.2.0)\n",
            "Requirement already satisfied: typing-extensions>=4.0.0 in c:\\users\\hendy group\\anaconda3\\lib\\site-packages (from optree->keras) (4.9.0)\n",
            "Requirement already satisfied: markdown-it-py<3.0.0,>=2.2.0 in c:\\users\\hendy group\\anaconda3\\lib\\site-packages (from rich->keras) (2.2.0)\n",
            "Requirement already satisfied: pygments<3.0.0,>=2.13.0 in c:\\users\\hendy group\\anaconda3\\lib\\site-packages (from rich->keras) (2.15.1)\n",
            "Requirement already satisfied: mdurl~=0.1 in c:\\users\\hendy group\\anaconda3\\lib\\site-packages (from markdown-it-py<3.0.0,>=2.2.0->rich->keras) (0.1.0)\n",
            "Using cached keras-3.3.3-py3-none-any.whl (1.1 MB)\n",
            "Installing collected packages: keras\n",
            "  Attempting uninstall: keras\n",
            "    Found existing installation: keras 2.15.0\n",
            "    Uninstalling keras-2.15.0:\n",
            "      Successfully uninstalled keras-2.15.0\n",
            "Successfully installed keras-3.3.3\n",
            "Note: you may need to restart the kernel to use updated packages.\n"
          ]
        },
        {
          "name": "stderr",
          "output_type": "stream",
          "text": [
            "ERROR: pip's dependency resolver does not currently take into account all the packages that are installed. This behaviour is the source of the following dependency conflicts.\n",
            "tensorflow-intel 2.15.0 requires keras<2.16,>=2.15.0, but you have keras 3.3.3 which is incompatible.\n"
          ]
        }
      ],
      "source": [
        "pip install --upgrade keras\n"
      ]
    },
    {
      "cell_type": "code",
      "execution_count": 12,
      "metadata": {},
      "outputs": [
        {
          "name": "stdout",
          "output_type": "stream",
          "text": [
            "2.15.0\n"
          ]
        }
      ],
      "source": [
        "import keras\n",
        "print(keras.__version__)\n"
      ]
    },
    {
      "cell_type": "code",
      "execution_count": null,
      "metadata": {},
      "outputs": [],
      "source": []
    },
    {
      "cell_type": "code",
      "execution_count": 1,
      "metadata": {},
      "outputs": [
        {
          "name": "stdout",
          "output_type": "stream",
          "text": [
            "WARNING:tensorflow:From c:\\Users\\Hendy Group\\anaconda3\\Lib\\site-packages\\tf_keras\\src\\losses.py:2976: The name tf.losses.sparse_softmax_cross_entropy is deprecated. Please use tf.compat.v1.losses.sparse_softmax_cross_entropy instead.\n",
            "\n"
          ]
        }
      ],
      "source": [
        "from retinaface import RetinaFace\n"
      ]
    },
    {
      "cell_type": "code",
      "execution_count": 2,
      "metadata": {
        "id": "Ab06qU5l4p5G"
      },
      "outputs": [],
      "source": [
        "from moviepy.editor import VideoFileClip\n",
        "from hsemotion.facial_emotions import HSEmotionRecognizer\n",
        "import cv2\n",
        "import numpy as np\n",
        "import os\n"
      ]
    },
    {
      "cell_type": "code",
      "execution_count": 9,
      "metadata": {
        "colab": {
          "base_uri": "https://localhost:8080/"
        },
        "id": "eSjUuQBG7Opw",
        "outputId": "bb32e267-67f0-4797-f5ad-72e6ff5ef869"
      },
      "outputs": [
        {
          "name": "stdout",
          "output_type": "stream",
          "text": [
            "C:\\Users\\Hendy Group\\.hsemotion\\enet_b0_8_best_vgaf.pt Compose(\n",
            "    Resize(size=(224, 224), interpolation=bilinear, max_size=None, antialias=True)\n",
            "    ToTensor()\n",
            "    Normalize(mean=[0.485, 0.456, 0.406], std=[0.229, 0.224, 0.225])\n",
            ")\n"
          ]
        }
      ],
      "source": [
        "# Initialize recognizer\n",
        "recognizer = HSEmotionRecognizer(model_name='enet_b0_8_best_vgaf', device='cpu')\n",
        "\n",
        "# Face Detection Function\n",
        "def detect_faces(frame):\n",
        "    \"\"\" Detect faces in the frame using RetinaFace \"\"\"\n",
        "    faces = RetinaFace.detect_faces(frame)\n",
        "    if isinstance(faces, dict):\n",
        "        face_list = []\n",
        "        for key in faces.keys():\n",
        "            face = faces[key]\n",
        "            facial_area = face['facial_area']\n",
        "            face_dict = {\n",
        "                'box': (facial_area[0], facial_area[1], facial_area[2] - facial_area[0], facial_area[3] - facial_area[1])\n",
        "            }\n",
        "            face_list.append(face_dict)\n",
        "        return face_list\n",
        "    return []\n",
        "\n",
        "# Annotation Function\n",
        "def annotate_frame(frame, faces):\n",
        "    \"\"\" Annotate the frame with recognized emotions using global recognizer \"\"\"\n",
        "    for face in faces:\n",
        "        x, y, w, h = face['box']\n",
        "        face_image = frame[y:y+h, x:x+w]  # Extract face region from frame\n",
        "        emotion = classify_emotions(face_image)\n",
        "        cv2.rectangle(frame, (x, y), (x+w, y+h), (255, 0, 0), 2)\n",
        "        cv2.putText(frame, emotion, (x, y-10), cv2.FONT_HERSHEY_SIMPLEX, 0.9, (255, 0, 0), 2)\n",
        "\n",
        "# Emotion Classification Function\n",
        "def classify_emotions(face_image):\n",
        "    \"\"\" Classify emotions for the given face image using global recognizer \"\"\"\n",
        "    results = recognizer.predict_emotions(face_image)\n",
        "    if results:\n",
        "        emotion = results[0]  # Get the most likely emotion\n",
        "    else:\n",
        "        emotion = 'Unknown'\n",
        "    return emotion\n",
        "\n",
        "# Process Video Frames\n",
        "def process_video_frames(video_path, temp_output_path, frame_skip=0):\n",
        "    # Load the video\n",
        "    video_clip = VideoFileClip(video_path)\n",
        "    fps = video_clip.fps\n",
        "\n",
        "    # Initialize output video writer\n",
        "    out = cv2.VideoWriter(temp_output_path, cv2.VideoWriter_fourcc(*'mp4v'), fps, (int(video_clip.size[0]), int(video_clip.size[1])))\n",
        "\n",
        "    # Iterate through frames, detect faces, and annotate emotions\n",
        "    frame_count = 0\n",
        "    for frame in video_clip.iter_frames():\n",
        "        if frame_count % frame_skip == 0:  # Process every nth frame\n",
        "            frame = np.copy(frame)  # Create a writable copy of the frame\n",
        "            faces = detect_faces(frame)\n",
        "            annotate_frame(frame, faces)\n",
        "        frame = cv2.cvtColor(frame, cv2.COLOR_RGB2BGR)  # Convert RGB to BGR for OpenCV\n",
        "        out.write(frame)\n",
        "        frame_count += 1\n",
        "\n",
        "    # Release resources and cleanup\n",
        "    out.release()\n",
        "    cv2.destroyAllWindows()\n",
        "    video_clip.close()\n",
        "\n",
        "# Add Audio to Processed Video\n",
        "def add_audio_to_video(original_video_path, processed_video_path, output_path):\n",
        "    try:\n",
        "        original_clip = VideoFileClip(original_video_path)\n",
        "        processed_clip = VideoFileClip(processed_video_path)\n",
        "        final_clip = processed_clip.set_audio(original_clip.audio)\n",
        "        final_clip.write_videofile(output_path, codec='libx264', audio_codec='aac')\n",
        "    except Exception as e:\n",
        "        print(f\"Error while combining with audio: {e}\")\n",
        "    finally:\n",
        "        original_clip.close()\n",
        "        processed_clip.close()\n",
        "\n",
        "# Process Video\n",
        "def process_video(video_path, output_path):\n",
        "    temp_output_path = 'temp_output_video.mp4'\n",
        "\n",
        "    # Process video frames and save to a temporary file\n",
        "    process_video_frames(video_path, temp_output_path, frame_skip=1)  # Adjust frame_skip as needed\n",
        "\n",
        "    # Add audio to the processed video\n",
        "    add_audio_to_video(video_path, temp_output_path, output_path)\n",
        "\n",
        "# Process Image\n",
        "def process_image(input_path, output_path):\n",
        "    # Ensure output path has a valid extension\n",
        "    if not output_path.lower().endswith(('.jpg', '.jpeg', '.png')):\n",
        "        output_path += '.jpg'  # Default to .jpg if no valid extension is found\n",
        "\n",
        "    # Step 1: Read input image\n",
        "    image = cv2.imread(input_path)\n",
        "    if image is None:\n",
        "        print(f\"Error: Unable to read image at '{input_path}'\")\n",
        "        return\n",
        "\n",
        "    # Step 2: Detect faces and annotate emotions\n",
        "    faces = detect_faces(image)\n",
        "    annotate_frame(image, faces)\n",
        "\n",
        "    # Step 3: Write annotated image to output path\n",
        "    cv2.imwrite(output_path, image)\n",
        "\n",
        "    # Step 4: Combine input and output images horizontally\n",
        "    input_image = cv2.imread(input_path)\n",
        "    combined_image = cv2.hconcat([input_image, image])\n",
        "\n",
        "    # Step 5: Save the combined image\n",
        "    combined_output_path = os.path.splitext(output_path)[0] + '_combined.jpg'\n",
        "    cv2.imwrite(combined_output_path, combined_image)\n",
        "\n",
        "    # Step 6: Display the combined image (uncomment if running locally)\n",
        "    # cv2.imshow('Combined Image', combined_image)\n",
        "    # cv2.waitKey(0)\n",
        "    # cv2.destroyAllWindows()"
      ]
    },
    {
      "cell_type": "markdown",
      "metadata": {
        "id": "fQ77JezWHh9y"
      },
      "source": [
        "# Time to process the video or image\n",
        "**NOTE : You can use your own data by changing the path**"
      ]
    },
    {
      "cell_type": "code",
      "execution_count": 17,
      "metadata": {
        "colab": {
          "base_uri": "https://localhost:8080/"
        },
        "id": "HiWL0XT5AONd",
        "outputId": "060281bb-0269-4369-ecce-32f472a3cf0a"
      },
      "outputs": [
        {
          "name": "stdout",
          "output_type": "stream",
          "text": [
            "Moviepy - Building video C:\\Users\\Hendy Group\\Downloads\\new_11.mp4.\n",
            "MoviePy - Writing audio in new_11TEMP_MPY_wvf_snd.mp4\n"
          ]
        },
        {
          "name": "stderr",
          "output_type": "stream",
          "text": [
            "                                                                   \r"
          ]
        },
        {
          "name": "stdout",
          "output_type": "stream",
          "text": [
            "MoviePy - Done.\n",
            "Moviepy - Writing video C:\\Users\\Hendy Group\\Downloads\\new_11.mp4\n",
            "\n"
          ]
        },
        {
          "name": "stderr",
          "output_type": "stream",
          "text": [
            "                                                               \r"
          ]
        },
        {
          "name": "stdout",
          "output_type": "stream",
          "text": [
            "Moviepy - Done !\n",
            "Moviepy - video ready C:\\Users\\Hendy Group\\Downloads\\new_11.mp4\n"
          ]
        }
      ],
      "source": [
        "if __name__ == \"__main__\":\n",
        "    input_path = r'C:\\Users\\Hendy Group\\Downloads\\فيديو واتساب بتاريخ 1445-12-12 في 07.06.34_9220b851.mp4'  # Update with your video or image path\n",
        "    output_path = r'C:\\Users\\Hendy Group\\Downloads\\new_11.mp4'  # Update with the desired output path\n",
        "\n",
        "    if input_path.lower().endswith(('.mp4', '.avi', '.mov', '.mkv')):\n",
        "        process_video(input_path, output_path)\n",
        "    elif input_path.lower().endswith(('.jpg', '.jpeg', '.png')):\n",
        "        process_image(input_path, output_path)\n",
        "    else:\n",
        "        print(\"Unsupported file format. Please provide a video or image file.\")"
      ]
    },
    {
      "cell_type": "code",
      "execution_count": 16,
      "metadata": {
        "id": "mdllZ7085ZlK"
      },
      "outputs": [],
      "source": [
        "if __name__ == \"__main__\":\n",
        "    input_path = r'C:\\Users\\Hendy Group\\Downloads\\motaz\\IMG-20240618-WA0003.jpg'  # Update with your video or image path\n",
        "    output_path = r'C:\\Users\\Hendy Group\\Downloads\\motaz\\mai-2.jpg'  # Update with the desired output path\n",
        "\n",
        "    if input_path.lower().endswith(('.mp4', '.avi', '.mov', '.mkv')):\n",
        "        process_video(input_path, output_path)\n",
        "    elif input_path.lower().endswith(('.jpg', '.jpeg', '.png')):\n",
        "        process_image(input_path, output_path)\n",
        "    else:\n",
        "        print(\"Unsupported file format. Please provide a video or image file.\")"
      ]
    },
    {
      "cell_type": "markdown",
      "metadata": {},
      "source": [
        "# <p>open camera for test model</p>"
      ]
    },
    {
      "cell_type": "code",
      "execution_count": 12,
      "metadata": {},
      "outputs": [],
      "source": [
        "def open_camera():\n",
        "    cap = cv2.VideoCapture(0)  # Open the default camera\n",
        "\n",
        "    if not cap.isOpened():\n",
        "        print(\"Error: Could not open camera.\")\n",
        "        return\n",
        "\n",
        "    while True:\n",
        "        ret, frame = cap.read()\n",
        "        if not ret:\n",
        "            break\n",
        "\n",
        "        faces = detect_faces(frame)\n",
        "        annotate_frame(frame, faces)\n",
        "\n",
        "        cv2.imshow('Emotion Recognition', frame)\n",
        "\n",
        "        if cv2.waitKey(1) & 0xFF == ord('q'):\n",
        "            break\n",
        "\n",
        "    cap.release()\n",
        "    cv2.destroyAllWindows()"
      ]
    },
    {
      "cell_type": "code",
      "execution_count": 13,
      "metadata": {},
      "outputs": [],
      "source": [
        "if __name__ == \"__main__\":\n",
        "    open_camera()"
      ]
    },
    {
      "cell_type": "code",
      "execution_count": null,
      "metadata": {},
      "outputs": [],
      "source": []
    }
  ],
  "metadata": {
    "colab": {
      "provenance": []
    },
    "kernelspec": {
      "display_name": "Python 3",
      "name": "python3"
    },
    "language_info": {
      "codemirror_mode": {
        "name": "ipython",
        "version": 3
      },
      "file_extension": ".py",
      "mimetype": "text/x-python",
      "name": "python",
      "nbconvert_exporter": "python",
      "pygments_lexer": "ipython3",
      "version": "3.11.7"
    }
  },
  "nbformat": 4,
  "nbformat_minor": 0
}
